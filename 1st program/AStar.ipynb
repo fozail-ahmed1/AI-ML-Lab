{
 "cells": [
  {
   "cell_type": "code",
   "execution_count": 1,
   "id": "05bf5e4a",
   "metadata": {},
   "outputs": [
    {
     "name": "stdout",
     "output_type": "stream",
     "text": [
      "Collecting heuristicsearch\n",
      "  Downloading heuristicsearch-0.1.1-py3-none-any.whl (5.5 kB)\n",
      "Installing collected packages: heuristicsearch\n",
      "Successfully installed heuristicsearch-0.1.1\n",
      "Note: you may need to restart the kernel to use updated packages.\n"
     ]
    },
    {
     "name": "stderr",
     "output_type": "stream",
     "text": [
      "WARNING: Ignoring invalid distribution -tatsmodels (c:\\users\\fozail\\anaconda3\\lib\\site-packages)\n",
      "WARNING: Ignoring invalid distribution -andas (c:\\users\\fozail\\anaconda3\\lib\\site-packages)\n",
      "WARNING: Ignoring invalid distribution -tatsmodels (c:\\users\\fozail\\anaconda3\\lib\\site-packages)\n",
      "WARNING: Ignoring invalid distribution -andas (c:\\users\\fozail\\anaconda3\\lib\\site-packages)\n",
      "WARNING: Ignoring invalid distribution -tatsmodels (c:\\users\\fozail\\anaconda3\\lib\\site-packages)\n",
      "WARNING: Ignoring invalid distribution -andas (c:\\users\\fozail\\anaconda3\\lib\\site-packages)\n",
      "WARNING: Ignoring invalid distribution -tatsmodels (c:\\users\\fozail\\anaconda3\\lib\\site-packages)\n",
      "WARNING: Ignoring invalid distribution -andas (c:\\users\\fozail\\anaconda3\\lib\\site-packages)\n",
      "WARNING: Ignoring invalid distribution -tatsmodels (c:\\users\\fozail\\anaconda3\\lib\\site-packages)\n",
      "WARNING: Ignoring invalid distribution -andas (c:\\users\\fozail\\anaconda3\\lib\\site-packages)\n",
      "WARNING: Ignoring invalid distribution -tatsmodels (c:\\users\\fozail\\anaconda3\\lib\\site-packages)\n",
      "WARNING: Ignoring invalid distribution -andas (c:\\users\\fozail\\anaconda3\\lib\\site-packages)\n",
      "WARNING: Ignoring invalid distribution -tatsmodels (c:\\users\\fozail\\anaconda3\\lib\\site-packages)\n",
      "WARNING: Ignoring invalid distribution -andas (c:\\users\\fozail\\anaconda3\\lib\\site-packages)\n"
     ]
    }
   ],
   "source": [
    "pip install heuristicsearch"
   ]
  },
  {
   "cell_type": "code",
   "execution_count": 2,
   "id": "f6bb9ce6",
   "metadata": {},
   "outputs": [
    {
     "name": "stdout",
     "output_type": "stream",
     "text": [
      "Path\n",
      "A -> F -> G -> I -> J\n",
      "Cost\n",
      "0 -> 3 -> 4 -> 7 -> 10\n"
     ]
    }
   ],
   "source": [
    "from heuristicsearch.a_star_search import AStar\n",
    "graph_nodes = {\n",
    " 'A': [('B', 6), ('F', 3)],\n",
    " 'B': [('C', 3), ('D', 2)],\n",
    " 'C': [('D', 1), ('E', 5)],\n",
    " 'D': [('C', 1), ('E', 8)],\n",
    " 'E': [('I', 5), ('J', 5)],\n",
    " 'F': [('G', 1),('H', 7)] ,\n",
    " 'G': [('I', 3)],\n",
    " 'H': [('I', 2)],\n",
    " 'I': [('E', 5), ('J', 3)],\n",
    " \n",
    "}\n",
    "heuristics = {\n",
    " 'A': 10,\n",
    " 'B': 8,\n",
    " 'C': 5,\n",
    " 'D': 7,\n",
    " 'E': 3,\n",
    " 'F': 6,\n",
    " 'G': 5,\n",
    " 'H': 3,\n",
    " 'I': 1,\n",
    " 'J': 0 \n",
    " }\n",
    "graph= AStar(graph_nodes,heuristics)\n",
    "graph.apply_a_star(start='A', stop='J')"
   ]
  },
  {
   "cell_type": "code",
   "execution_count": null,
   "id": "634b35de",
   "metadata": {},
   "outputs": [],
   "source": []
  }
 ],
 "metadata": {
  "kernelspec": {
   "display_name": "Python 3 (ipykernel)",
   "language": "python",
   "name": "python3"
  },
  "language_info": {
   "codemirror_mode": {
    "name": "ipython",
    "version": 3
   },
   "file_extension": ".py",
   "mimetype": "text/x-python",
   "name": "python",
   "nbconvert_exporter": "python",
   "pygments_lexer": "ipython3",
   "version": "3.9.7"
  }
 },
 "nbformat": 4,
 "nbformat_minor": 5
}
