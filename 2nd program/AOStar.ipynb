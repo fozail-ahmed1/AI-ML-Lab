{
 "cells": [
  {
   "cell_type": "code",
   "execution_count": 1,
   "id": "b29c62ef",
   "metadata": {},
   "outputs": [
    {
     "name": "stdout",
     "output_type": "stream",
     "text": [
      "Requirement already satisfied: heuristicsearch in c:\\users\\fozail\\anaconda3\\lib\\site-packages (0.1.1)\n",
      "Note: you may need to restart the kernel to use updated packages.\n"
     ]
    },
    {
     "name": "stderr",
     "output_type": "stream",
     "text": [
      "WARNING: Ignoring invalid distribution -tatsmodels (c:\\users\\fozail\\anaconda3\\lib\\site-packages)\n",
      "WARNING: Ignoring invalid distribution -andas (c:\\users\\fozail\\anaconda3\\lib\\site-packages)\n",
      "WARNING: Ignoring invalid distribution -tatsmodels (c:\\users\\fozail\\anaconda3\\lib\\site-packages)\n",
      "WARNING: Ignoring invalid distribution -andas (c:\\users\\fozail\\anaconda3\\lib\\site-packages)\n",
      "WARNING: Ignoring invalid distribution -tatsmodels (c:\\users\\fozail\\anaconda3\\lib\\site-packages)\n",
      "WARNING: Ignoring invalid distribution -andas (c:\\users\\fozail\\anaconda3\\lib\\site-packages)\n",
      "WARNING: Ignoring invalid distribution -tatsmodels (c:\\users\\fozail\\anaconda3\\lib\\site-packages)\n",
      "WARNING: Ignoring invalid distribution -andas (c:\\users\\fozail\\anaconda3\\lib\\site-packages)\n",
      "WARNING: Ignoring invalid distribution -tatsmodels (c:\\users\\fozail\\anaconda3\\lib\\site-packages)\n",
      "WARNING: Ignoring invalid distribution -andas (c:\\users\\fozail\\anaconda3\\lib\\site-packages)\n",
      "WARNING: Ignoring invalid distribution -tatsmodels (c:\\users\\fozail\\anaconda3\\lib\\site-packages)\n",
      "WARNING: Ignoring invalid distribution -andas (c:\\users\\fozail\\anaconda3\\lib\\site-packages)\n"
     ]
    }
   ],
   "source": [
    "pip install heuristicsearch"
   ]
  },
  {
   "cell_type": "code",
   "execution_count": 2,
   "id": "57a9b262",
   "metadata": {},
   "outputs": [
    {
     "name": "stdout",
     "output_type": "stream",
     "text": [
      "Graph-1\n",
      "PROCESSING NODE : S\n",
      "-----------------------------------------------------------------------------------------\n",
      "14 ['C']\n",
      "\n",
      "PROCESSING NODE : C\n",
      "-----------------------------------------------------------------------------------------\n",
      "14 ['F', 'G']\n",
      "\n",
      "PROCESSING NODE : S\n",
      "-----------------------------------------------------------------------------------------\n",
      "15 ['C']\n",
      "\n",
      "PROCESSING NODE : F\n",
      "-----------------------------------------------------------------------------------------\n",
      "0 []\n",
      "\n",
      "PROCESSING NODE : C\n",
      "-----------------------------------------------------------------------------------------\n",
      "9 ['F', 'G']\n",
      "\n",
      "PROCESSING NODE : S\n",
      "-----------------------------------------------------------------------------------------\n",
      "10 ['C']\n",
      "\n",
      "PROCESSING NODE : G\n",
      "-----------------------------------------------------------------------------------------\n",
      "0 []\n",
      "\n",
      "PROCESSING NODE : C\n",
      "-----------------------------------------------------------------------------------------\n",
      "2 ['F', 'G']\n",
      "\n",
      "PROCESSING NODE : S\n",
      "-----------------------------------------------------------------------------------------\n",
      "3 ['C']\n",
      "\n",
      "FOR THE SOLUTION, TRAVERSE THE GRAPH FROM THE START NODE: S\n",
      "------------------------------------------------------------\n",
      "{'F': [], 'G': [], 'C': ['F', 'G'], 'S': ['C']}\n",
      "------------------------------------------------------------\n"
     ]
    }
   ],
   "source": [
    "from heuristicsearch.ao_star import AOStar\n",
    "print(\"Graph-1\")\n",
    "heuristic = {'S': 1, 'A': 7, 'B': 12, 'C': 13, 'D': 5, 'E': 6, 'F': 5, 'G': 7, 'H': 2,}\n",
    "adjacency_matrix = { \n",
    " 'S': [[('A', 1), ('B', 1)], [('C', 1)]], \n",
    " 'A': [[('D', 1)], [('E', 1)]], \n",
    " 'C': [[('F', 1), ('G', 1)]],\n",
    " 'D': [('H', 1)]\n",
    "}\n",
    "graph=AOStar(adjacency_matrix,heuristic,'S')\n",
    "graph.applyAOStar()"
   ]
  },
  {
   "cell_type": "code",
   "execution_count": null,
   "id": "748bfc78",
   "metadata": {},
   "outputs": [],
   "source": []
  }
 ],
 "metadata": {
  "kernelspec": {
   "display_name": "Python 3 (ipykernel)",
   "language": "python",
   "name": "python3"
  },
  "language_info": {
   "codemirror_mode": {
    "name": "ipython",
    "version": 3
   },
   "file_extension": ".py",
   "mimetype": "text/x-python",
   "name": "python",
   "nbconvert_exporter": "python",
   "pygments_lexer": "ipython3",
   "version": "3.9.7"
  }
 },
 "nbformat": 4,
 "nbformat_minor": 5
}
