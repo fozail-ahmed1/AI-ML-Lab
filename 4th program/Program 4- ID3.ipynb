{
 "cells": [
  {
   "cell_type": "code",
   "execution_count": 1,
   "id": "e27bb5af",
   "metadata": {},
   "outputs": [
    {
     "name": "stdout",
     "output_type": "stream",
     "text": [
      "Collecting decision-tree-ID3-Algorithm==0.0.4\n",
      "  Downloading decision_tree_ID3_Algorithm-0.0.4-py3-none-any.whl (4.6 kB)\n",
      "Collecting treelib\n",
      "  Downloading treelib-1.6.1.tar.gz (24 kB)\n",
      "Requirement already satisfied: future in c:\\users\\fozail\\anaconda3\\lib\\site-packages (from treelib->decision-tree-ID3-Algorithm==0.0.4) (0.18.2)\n",
      "Building wheels for collected packages: treelib\n",
      "  Building wheel for treelib (setup.py): started\n",
      "  Building wheel for treelib (setup.py): finished with status 'done'\n",
      "  Created wheel for treelib: filename=treelib-1.6.1-py3-none-any.whl size=18386 sha256=5026bc75093c48275edb2b30bc93a63639d0d0bc2c650bcaf47d5860808b471a\n",
      "  Stored in directory: c:\\users\\fozail\\appdata\\local\\pip\\cache\\wheels\\43\\de\\32\\fd270cc5f06de2bebcdaa666e9350b95f54d983212a7aba9ad\n",
      "Successfully built treelib\n",
      "Installing collected packages: treelib, decision-tree-ID3-Algorithm\n",
      "Successfully installed decision-tree-ID3-Algorithm-0.0.4 treelib-1.6.1\n",
      "Note: you may need to restart the kernel to use updated packages.\n"
     ]
    },
    {
     "name": "stderr",
     "output_type": "stream",
     "text": [
      "WARNING: Ignoring invalid distribution -tatsmodels (c:\\users\\fozail\\anaconda3\\lib\\site-packages)\n",
      "WARNING: Ignoring invalid distribution -andas (c:\\users\\fozail\\anaconda3\\lib\\site-packages)\n",
      "WARNING: Ignoring invalid distribution -tatsmodels (c:\\users\\fozail\\anaconda3\\lib\\site-packages)\n",
      "WARNING: Ignoring invalid distribution -andas (c:\\users\\fozail\\anaconda3\\lib\\site-packages)\n",
      "WARNING: Ignoring invalid distribution -tatsmodels (c:\\users\\fozail\\anaconda3\\lib\\site-packages)\n",
      "WARNING: Ignoring invalid distribution -andas (c:\\users\\fozail\\anaconda3\\lib\\site-packages)\n",
      "WARNING: Ignoring invalid distribution -tatsmodels (c:\\users\\fozail\\anaconda3\\lib\\site-packages)\n",
      "WARNING: Ignoring invalid distribution -andas (c:\\users\\fozail\\anaconda3\\lib\\site-packages)\n",
      "WARNING: Ignoring invalid distribution -tatsmodels (c:\\users\\fozail\\anaconda3\\lib\\site-packages)\n",
      "WARNING: Ignoring invalid distribution -andas (c:\\users\\fozail\\anaconda3\\lib\\site-packages)\n",
      "WARNING: Ignoring invalid distribution -tatsmodels (c:\\users\\fozail\\anaconda3\\lib\\site-packages)\n",
      "WARNING: Ignoring invalid distribution -andas (c:\\users\\fozail\\anaconda3\\lib\\site-packages)\n",
      "WARNING: Ignoring invalid distribution -tatsmodels (c:\\users\\fozail\\anaconda3\\lib\\site-packages)\n",
      "WARNING: Ignoring invalid distribution -andas (c:\\users\\fozail\\anaconda3\\lib\\site-packages)\n",
      "WARNING: Ignoring invalid distribution -tatsmodels (c:\\users\\fozail\\anaconda3\\lib\\site-packages)\n",
      "WARNING: Ignoring invalid distribution -andas (c:\\users\\fozail\\anaconda3\\lib\\site-packages)\n"
     ]
    }
   ],
   "source": [
    "pip install decision-tree-ID3-Algorithm==0.0.4"
   ]
  },
  {
   "cell_type": "code",
   "execution_count": 3,
   "id": "0b842b5e",
   "metadata": {},
   "outputs": [
    {
     "name": "stdout",
     "output_type": "stream",
     "text": [
      "The decision tree for the dataset using ID3 algorithm is\n",
      "Outlook\n",
      "├── Overcast\n",
      "│   └── Yes\n",
      "├── Rain\n",
      "│   └── Wind\n",
      "│       ├── Strong\n",
      "│       │   └── No\n",
      "│       └── Weak\n",
      "│           └── Yes\n",
      "└── Sunny\n",
      "    └── Humidity\n",
      "        ├── High\n",
      "        │   └── No\n",
      "        └── Normal\n",
      "            └── Yes\n",
      "\n",
      "The test instance: ['Sunny', 'Hot', 'High', 'Weak', '?']\n",
      "The label for test instance:\n",
      "No\n",
      "The tree traversal for the test instance is: \n",
      "Outlook\n",
      "└── Sunny\n",
      "    └── Humidity\n",
      "        └── High\n",
      "            └── No\n",
      "\n",
      "The test instance: ['Rain', 'Mild', 'High', 'Weak', '?']\n",
      "The label for test instance:\n",
      "Yes\n",
      "The tree traversal for the test instance is: \n",
      "Outlook\n",
      "└── Rain\n",
      "    └── Wind\n",
      "        └── Weak\n",
      "            └── Yes\n",
      "\n"
     ]
    }
   ],
   "source": [
    "from ID3Algorithm import ID3\n",
    "import csv\n",
    "\n",
    "def load_csv(filename):\n",
    "    lines=csv.reader(open(filename,\"r\"))\n",
    "    dataset=list(lines)\n",
    "    headers=dataset.pop(0)\n",
    "    return dataset,headers\n",
    "\n",
    "dataset_train, headers_train=load_csv('PlayTennis.csv')\n",
    "dataset_test, headers_test=load_csv('PlayTennisTest.csv')\n",
    "\n",
    "id3=ID3(dataset_train,headers_train,dataset_test,headers_test)\n",
    "id3.build_tree()\n",
    "id3.classify()"
   ]
  },
  {
   "cell_type": "code",
   "execution_count": null,
   "id": "3f460e31",
   "metadata": {},
   "outputs": [],
   "source": []
  }
 ],
 "metadata": {
  "kernelspec": {
   "display_name": "Python 3 (ipykernel)",
   "language": "python",
   "name": "python3"
  },
  "language_info": {
   "codemirror_mode": {
    "name": "ipython",
    "version": 3
   },
   "file_extension": ".py",
   "mimetype": "text/x-python",
   "name": "python",
   "nbconvert_exporter": "python",
   "pygments_lexer": "ipython3",
   "version": "3.9.7"
  }
 },
 "nbformat": 4,
 "nbformat_minor": 5
}
